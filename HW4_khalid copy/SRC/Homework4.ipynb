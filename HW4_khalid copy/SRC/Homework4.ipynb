{
 "cells": [
  {
   "cell_type": "code",
   "execution_count": 1,
   "metadata": {},
   "outputs": [],
   "source": [
    "import pandas as pd\n",
    "import numpy as np\n",
    "import sklearn as sk\n",
    "import matplotlib\n",
    "import sklearn as sk\n",
    "import scipy\n",
    "import imblearn\n",
    "from imblearn.over_sampling import RandomOverSampler\n",
    "from sklearn.decomposition import PCA\n",
    "import matplotlib.pyplot as plt\n",
    "from sklearn.model_selection import train_test_split\n",
    "from sklearn.neighbors import KNeighborsClassifier\n",
    "from sklearn.model_selection import KFold\n",
    "from sklearn.metrics import accuracy_score\n",
    "from sklearn.naive_bayes import GaussianNB\n",
    "from sklearn.cluster import KMeans\n",
    "from sklearn.preprocessing import StandardScaler\n",
    "from sklearn.tree import DecisionTreeClassifier"
   ]
  },
  {
   "cell_type": "code",
   "execution_count": 3,
   "metadata": {},
   "outputs": [
    {
     "name": "stdout",
     "output_type": "stream",
     "text": [
      "[[   75     3]\n",
      " [   75    32]\n",
      " [   75   110]\n",
      " ...\n",
      " [71534 46578]\n",
      " [71534 61075]\n",
      " [71534 62049]]\n",
      "[1 4 4 ... 4 5 4]\n"
     ]
    }
   ],
   "source": [
    "#read in the training file data\n",
    "trainData = pd.read_csv('/Users/hudakhalid/Documents/CS484/HW4_khalid/additional_files/train.dat',delim_whitespace='true',usecols=[\"userID\",\"movieID\",\"rating\"])\n",
    "trainData.head()\n",
    "#print(trainData)\n",
    "trainData = trainData.astype(int)\n",
    "trainData = np.array(trainData)\n",
    "#print(trainData)\n",
    "#userID and movieID\n",
    "X = trainData[:,:2]\n",
    "#ratings\n",
    "y = trainData[:,-1]\n",
    "print(X)\n",
    "print(y)"
   ]
  },
  {
   "cell_type": "code",
   "execution_count": 4,
   "metadata": {},
   "outputs": [],
   "source": [
    "folds = KFold(n_splits=4)\n",
    "knnArray = []\n",
    "knnPredict = []\n",
    "clusterArray = []\n",
    "predictions = []\n",
    "dtArray = []\n",
    "gausNBArray = []\n",
    "X_train, X_test, y_train, y_test = train_test_split(X, y,test_size=0.3)"
   ]
  },
  {
   "cell_type": "code",
   "execution_count": 6,
   "metadata": {},
   "outputs": [],
   "source": [
    "for train, test in folds.split(X):\n",
    "    X_train, X_test, y_train, y_test = X[train], X[test], y[train], y[test]\n",
    "\n",
    "    scaler = StandardScaler()\n",
    "    scaler.fit(X_train)\n",
    "    X_train = scaler.transform(X_train)\n",
    "    X_test = scaler.transform(X_test)\n",
    "    pca = PCA()\n",
    "    pca.fit(X_train)\n",
    "    pca.fit(X_test)\n",
    "    X_train = pca.transform(X_train)\n",
    "    X_test = pca.transform(X_test)\n",
    "\n",
    "    kmeans1 = KMeans(n_clusters=5)\n",
    "    kmeans1.fit(X_train, y_train)\n",
    "    predictions = kmeans1.fit_predict(X_test)\n",
    "    clusterArray.append(accuracy_score(y_test, predictions))\n",
    "\n",
    "    knn = KNeighborsClassifier(n_neighbors=5,weights='uniform',p=1)\n",
    "    knn.fit(X_train, y_train)\n",
    "    knnPredict = knn.predict(X_test)\n",
    "    knnArray.append(accuracy_score(y_test,knnPredict))\n",
    "\n",
    "    DT = DecisionTreeClassifier(class_weight='balanced')\n",
    "    DT.fit(X_train, y_train)\n",
    "    DTPredict = DT.predict(X_test)\n",
    "    dtArray.append(accuracy_score(y_test, DTPredict))\n",
    "\n",
    "    gausNB = GaussianNB()\n",
    "    gausNB.fit(X_train, y_train)\n",
    "    gausNBPredict = gausNB.predict(X_test)\n",
    "    gausNBArray.append(accuracy_score(y_test, gausNBPredict))\n"
   ]
  },
  {
   "cell_type": "code",
   "execution_count": 7,
   "metadata": {},
   "outputs": [
    {
     "name": "stdout",
     "output_type": "stream",
     "text": [
      "\n",
      "Classifying with Kmeans Clustering\n",
      "[0 0 0 ... 3 3 3]\n",
      "0.19273576961988864\n",
      "\n",
      "Classifying with knn\n",
      "[3 3 3 ... 3 2 2]\n",
      "0.3323339042296835\n",
      "\n",
      "Classifying with decision tree\n",
      "[3 3 3 ... 0 4 4]\n",
      "0.22655709725468745\n",
      "\n",
      "Classifying with Naive Bayes\n",
      "[4 4 4 ... 4 4 4]\n",
      "0.3579633554297568\n"
     ]
    }
   ],
   "source": [
    "print('\\nClassifying with Kmeans Clustering')\n",
    "print(predictions)\n",
    "print(np.mean(clusterArray))\n",
    "\n",
    "print('\\nClassifying with knn')\n",
    "print(knnPredict)\n",
    "print(np.mean(knnArray))\n",
    "\n",
    "print('\\nClassifying with decision tree')\n",
    "print(DTPredict)\n",
    "print(np.mean(dtArray))\n",
    "\n",
    "print('\\nClassifying with Naive Bayes')\n",
    "print(gausNBPredict)\n",
    "print(np.mean(gausNBArray))"
   ]
  },
  {
   "cell_type": "code",
   "execution_count": 8,
   "metadata": {},
   "outputs": [
    {
     "name": "stdout",
     "output_type": "stream",
     "text": [
      "[[   75   653]\n",
      " [   75  1527]\n",
      " [   75  3258]\n",
      " ...\n",
      " [71534  4306]\n",
      " [71534  7132]\n",
      " [71534 35836]]\n"
     ]
    }
   ],
   "source": [
    "#test set\n",
    "testData = pd.read_csv('/Users/hudakhalid/Documents/CS484/HW4_khalid/additional_files/test.dat',delim_whitespace='true',usecols=[\"userID\",\"movieID\"])\n",
    "testData.head()\n",
    "#print(testData)\n",
    "testData = testData.astype(int)\n",
    "testData = np.array(testData)\n",
    "print(testData)\n",
    "X_train = X\n",
    "y_train = y\n",
    "X_test = testData\n",
    "knnArray = []\n",
    "knnPredict = []\n",
    "clusterArray = []\n",
    "predictions = []\n",
    "dtArray = []\n",
    "gausNBArray = []"
   ]
  },
  {
   "cell_type": "code",
   "execution_count": 9,
   "metadata": {},
   "outputs": [
    {
     "name": "stdout",
     "output_type": "stream",
     "text": [
      "[3 3 3 ... 4 4 4]\n"
     ]
    }
   ],
   "source": [
    "scaler = StandardScaler()\n",
    "scaler.fit(X_train)\n",
    "X_train = scaler.transform(X_train)\n",
    "X_test = scaler.transform(X_test)\n",
    "pca = PCA()\n",
    "pca.fit(X_train)\n",
    "pca.fit(X_test)\n",
    "X_train = pca.transform(X_train)\n",
    "X_test = pca.transform(X_test)\n",
    "\n",
    "gausNB = GaussianNB()\n",
    "gausNB.fit(X_train, y_train)\n",
    "gausNBPredict = gausNB.predict(X_test)\n",
    "\n",
    "print(gausNBPredict)"
   ]
  },
  {
   "cell_type": "code",
   "execution_count": 10,
   "metadata": {},
   "outputs": [],
   "source": [
    "formatFile = open('hkhalidHW4.txt','w')\n",
    "for i in gausNBPredict:\n",
    "    formatFile.write(str(i) + '\\n')\n",
    "\n",
    "formatFile.close()"
   ]
  },
  {
   "cell_type": "code",
   "execution_count": null,
   "metadata": {},
   "outputs": [],
   "source": []
  }
 ],
 "metadata": {
  "kernelspec": {
   "display_name": "Python 3",
   "language": "python",
   "name": "python3"
  },
  "language_info": {
   "codemirror_mode": {
    "name": "ipython",
    "version": 3
   },
   "file_extension": ".py",
   "mimetype": "text/x-python",
   "name": "python",
   "nbconvert_exporter": "python",
   "pygments_lexer": "ipython3",
   "version": "3.8.5"
  }
 },
 "nbformat": 4,
 "nbformat_minor": 4
}
